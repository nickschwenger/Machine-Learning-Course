{
 "cells": [
  {
   "cell_type": "code",
   "execution_count": 1,
   "id": "904be55c",
   "metadata": {},
   "outputs": [],
   "source": [
    "import pandas as pd\n",
    "import numpy as np\n",
    "from matplotlib import pyplot as plt\n",
    "from sklearn.linear_model import LogisticRegression\n",
    "from sklearn.ensemble import RandomForestClassifier\n",
    "from sklearn.linear_model import LinearRegression\n",
    "from sklearn.model_selection import train_test_split\n",
    "from sklearn import linear_model \n",
    "from sklearn.model_selection import cross_val_score\n",
    "from sklearn.preprocessing import StandardScaler\n",
    "from sklearn.preprocessing import MinMaxScaler\n",
    "from sklearn.metrics import accuracy_score\n",
    "from sklearn.metrics import confusion_matrix\n",
    "from sklearn.metrics import classification_report\n",
    "from sklearn.metrics import precision_score\n",
    "from sklearn.metrics import recall_score\n",
    "from sklearn.metrics import mean_squared_error, r2_score\n",
    "from sklearn.preprocessing import LabelEncoder\n",
    "from sklearn.neighbors import KNeighborsRegressor\n",
    "\n",
    "\n",
    "\n",
    "\n",
    "\n",
    "\n",
    "\n",
    "\n",
    "\n",
    "df= pd.read_csv('profiles.csv')\n",
    "\n",
    "\n"
   ]
  },
  {
   "cell_type": "code",
   "execution_count": 3,
   "id": "7c844b1f",
   "metadata": {},
   "outputs": [
    {
     "data": {
      "image/png": "[encoded data removed]",
      "text/plain": [
       "<Figure size 640x480 with 1 Axes>"
      ]
     },
     "metadata": {},
     "output_type": "display_data"
    }
   ],
   "source": [
    "plt.hist(df.age, bins=20)\n",
    "plt.xlabel(\"Age\")\n",
    "plt.ylabel(\"Frequency\")\n",
    "plt.xlim(16, 80)\n",
    "plt.show()"
   ]
  },
  {
   "cell_type": "code",
   "execution_count": 4,
   "id": "abd2156f",
   "metadata": {},
   "outputs": [
    {
     "data": {
      "text/plain": [
       "age              int64\n",
       "body_type       object\n",
       "diet            object\n",
       "drinks          object\n",
       "drugs           object\n",
       "education       object\n",
       "essay0          object\n",
       "essay1          object\n",
       "essay2          object\n",
       "essay3          object\n",
       "essay4          object\n",
       "essay5          object\n",
       "essay6          object\n",
       "essay7          object\n",
       "essay8          object\n",
       "essay9          object\n",
       "ethnicity       object\n",
       "height         float64\n",
       "income           int64\n",
       "job             object\n",
       "last_online     object\n",
       "location        object\n",
       "offspring       object\n",
       "orientation     object\n",
       "pets            object\n",
       "religion        object\n",
       "sex             object\n",
       "sign            object\n",
       "smokes          object\n",
       "speaks          object\n",
       "status          object\n",
       "dtype: object"
      ]
     },
     "execution_count": 4,
     "metadata": {},
     "output_type": "execute_result"
    }
   ],
   "source": [
    "df.dtypes"
   ]
  },
  {
   "cell_type": "code",
   "execution_count": 5,
   "id": "cb2b4df5",
   "metadata": {},
   "outputs": [
    {
     "name": "stdout",
     "output_type": "stream",
     "text": [
      "['a little extra' 'average' 'thin' 'athletic' 'fit' nan 'skinny' 'curvy'\n",
      " 'full figured' 'jacked' 'rather not say' 'used up' 'overweight']\n"
     ]
    }
   ],
   "source": [
    "print(df.body_type.unique())"
   ]
  },
  {
   "cell_type": "code",
   "execution_count": 6,
   "id": "d4025d51",
   "metadata": {},
   "outputs": [
    {
     "name": "stdout",
     "output_type": "stream",
     "text": [
      "['single' 'available' 'seeing someone' 'married' 'unknown']\n"
     ]
    },
    {
     "data": {
      "text/plain": [
       "white                                                                 32831\n",
       "asian                                                                  6134\n",
       "hispanic / latin                                                       2823\n",
       "black                                                                  2008\n",
       "other                                                                  1706\n",
       "                                                                      ...  \n",
       "middle eastern, indian, white                                             1\n",
       "asian, middle eastern, black, white, other                                1\n",
       "asian, middle eastern, indian, hispanic / latin, white, other             1\n",
       "black, native american, indian, pacific islander, hispanic / latin        1\n",
       "asian, black, indian                                                      1\n",
       "Name: ethnicity, Length: 217, dtype: int64"
      ]
     },
     "execution_count": 6,
     "metadata": {},
     "output_type": "execute_result"
    }
   ],
   "source": [
    "# understanding the column ethnicity\n",
    "print(df.status.unique())\n",
    "df.ethnicity.value_counts()\n"
   ]
  },
  {
   "cell_type": "code",
   "execution_count": 8,
   "id": "69e5e5f6",
   "metadata": {},
   "outputs": [
    {
     "data": {
      "text/plain": [
       "1    41897\n",
       "0    18049\n",
       "Name: education_encoded, dtype: int64"
      ]
     },
     "execution_count": 8,
     "metadata": {},
     "output_type": "execute_result"
    }
   ],
   "source": [
    "df = pd.read_csv('profiles.csv').copy()\n",
    "\n",
    "# encoding the education column\n",
    "degree = [\"working on college/university\", \"graduated from college/university\", \"graduated from masters program\", \"graduated from law school\", \"graduated from two-year college\", \"graduated from med school\", \"masters program\", \"law school\", \"med school\"]\n",
    "\n",
    "education_coded = df.education.apply(lambda x: 1 if x in degree else 0)\n",
    "df[\"education_encoded\"] = education_coded\n",
    "\n",
    "\n",
    "df.education_encoded.value_counts()"
   ]
  },
  {
   "cell_type": "code",
   "execution_count": 9,
   "id": "304725a1",
   "metadata": {},
   "outputs": [],
   "source": [
    "# encoding the ethnicity column\n",
    "ethnicity = df['ethnicity']\n",
    "ethnicity_coded = ethnicity.copy()\n",
    "for i in range(len(ethnicity_coded)):\n",
    "    if ethnicity_coded[i] == 'white':\n",
    "        ethnicity_coded[i] = 1\n",
    "    elif ethnicity_coded[i] == 'black':\n",
    "        ethnicity_coded[i] = 2\n",
    "    elif ethnicity_coded[i] == 'asian':\n",
    "        ethnicity_coded[i] = 3\n",
    "    elif ethnicity_coded[i] == 'hispanic or latino':\n",
    "        ethnicity_coded[i] = 4\n",
    "    else:\n",
    "        ethnicity_coded[i] = 0\n",
    "ethnicity_coded = ethnicity_coded.astype(int)\n",
    "df['ethnicity_encoded'] = ethnicity_coded\n",
    "\n",
    "\n",
    "\n"
   ]
  },
  {
   "cell_type": "code",
   "execution_count": 10,
   "id": "20298c76",
   "metadata": {},
   "outputs": [],
   "source": [
    "# encoding the drugs column\n",
    "drugs_mapping= {'never' : 0, 'sometimes' : 1, 'often' : 2}\n",
    "df['drugs_encoded'] = df.drugs.map(drugs_mapping)\n",
    "\n",
    "\n"
   ]
  },
  {
   "cell_type": "code",
   "execution_count": 11,
   "id": "e4c8dc24",
   "metadata": {},
   "outputs": [],
   "source": [
    "# encoding the essay column\n",
    "essay_cols= ['essay0', 'essay1']\n",
    "df[essay_cols]= df[essay_cols].replace(np.nan, '', regex=True)\n",
    "all_essays= df[essay_cols].apply(lambda x: ' '.join(x), axis=1)\n",
    "df['all_essays']= all_essays.apply(lambda x: len(x))\n",
    "\n"
   ]
  },
  {
   "cell_type": "code",
   "execution_count": 13,
   "id": "77017dce",
   "metadata": {},
   "outputs": [],
   "source": [
    "#Encode the value of \"job\" into an integer within \"job_encoded\":\n",
    "le = LabelEncoder()\n",
    "le.fit(df[\"job\"])\n",
    "df[\"job_encoded\"] = le.transform(df[\"job\"])\n",
    "\n",
    "\n"
   ]
  },
  {
   "cell_type": "code",
   "execution_count": 14,
   "id": "8b498fe7",
   "metadata": {},
   "outputs": [],
   "source": [
    "# getting the features and labels\n",
    "features = df[['education_encoded', 'ethnicity_encoded', 'drugs_encoded']]\n",
    "income = df.income\n",
    "features= features.join(income)\n",
    "features = features.dropna(subset=['drugs_encoded'])\n",
    "\n",
    "\n",
    "#Putting income into a separate variable & remove income from features so data can be normalized\n",
    "income= features.income\n",
    "features.drop('income', axis=1, inplace=True)\n",
    "\n",
    "\n",
    "\n",
    "#normalize the features and labels:\n",
    "x = features\n",
    "min_max_scaler = MinMaxScaler()\n",
    "x_scaled = min_max_scaler.fit_transform(x)\n",
    " \n",
    "feature_data = pd.DataFrame(x_scaled, columns=features.columns)\n",
    "\n",
    "\n",
    "train_data = feature_data\n",
    "train_labels = income\n"
   ]
  },
  {
   "cell_type": "code",
   "execution_count": 16,
   "id": "fa02e2f7",
   "metadata": {},
   "outputs": [],
   "source": [
    "# splitting the data into train and test sets\n",
    "train_data, test_data, train_labels, test_labels = train_test_split(train_data, train_labels, test_size=0.2, random_state=42)\n",
    "\n",
    "# training the model\n",
    "model = RandomForestClassifier()\n",
    "model.fit(train_data, train_labels)\n",
    "\n"
   ]
  },
  {
   "cell_type": "code",
   "execution_count": 23,
   "id": "966233aa",
   "metadata": {},
   "outputs": [
    {
     "name": "stdout",
     "output_type": "stream",
     "text": [
      "0.7989971659036407\n"
     ]
    }
   ],
   "source": [
    "#Evaluate the model\n",
    "print(model.score(test_data, test_labels))\n",
    "\n",
    "\n",
    "\n",
    "\n"
   ]
  }
 ],
 "metadata": {
  "kernelspec": {
   "display_name": "Python 3",
   "language": "python",
   "name": "python3"
  },
  "language_info": {
   "codemirror_mode": {
    "name": "ipython",
    "version": 3
   },
   "file_extension": ".py",
   "mimetype": "text/x-python",
   "name": "python",
   "nbconvert_exporter": "python",
   "pygments_lexer": "ipython3",
   "version": "3.10.1"
  },
  "vscode": {
   "interpreter": {
    "hash": "aee8b7b246df8f9039afb4144a1f6fd8d2ca17a180786b69acc140d282b71a49"
   }
  }
 },
 "nbformat": 4,
 "nbformat_minor": 5
}
